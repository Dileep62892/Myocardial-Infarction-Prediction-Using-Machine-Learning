{
 "cells": [
  {
   "cell_type": "code",
   "execution_count": 1,
   "metadata": {},
   "outputs": [],
   "source": [
    "import numpy as np\n",
    "import pandas as pd\n",
    "import matplotlib.pyplot as plt\n",
    "import seaborn as sns\n",
    "\n",
    "import warnings\n",
    "warnings.filterwarnings('ignore')"
   ]
  },
  {
   "cell_type": "code",
   "execution_count": 2,
   "metadata": {},
   "outputs": [],
   "source": [
    "#Loading the data into the dataframe\n",
    "dataset = pd.read_csv(\"heart.csv\")"
   ]
  },
  {
   "cell_type": "code",
   "execution_count": 3,
   "metadata": {},
   "outputs": [
    {
     "data": {
      "text/plain": [
       "pandas.core.frame.DataFrame"
      ]
     },
     "execution_count": 3,
     "metadata": {},
     "output_type": "execute_result"
    }
   ],
   "source": [
    "type(dataset)"
   ]
  },
  {
   "cell_type": "code",
   "execution_count": 4,
   "metadata": {},
   "outputs": [
    {
     "data": {
      "text/plain": [
       "(303, 14)"
      ]
     },
     "execution_count": 4,
     "metadata": {},
     "output_type": "execute_result"
    }
   ],
   "source": [
    "dataset.shape"
   ]
  },
  {
   "cell_type": "code",
   "execution_count": 5,
   "metadata": {},
   "outputs": [
    {
     "data": {
      "text/html": [
       "<div>\n",
       "<style scoped>\n",
       "    .dataframe tbody tr th:only-of-type {\n",
       "        vertical-align: middle;\n",
       "    }\n",
       "\n",
       "    .dataframe tbody tr th {\n",
       "        vertical-align: top;\n",
       "    }\n",
       "\n",
       "    .dataframe thead th {\n",
       "        text-align: right;\n",
       "    }\n",
       "</style>\n",
       "<table border=\"1\" class=\"dataframe\">\n",
       "  <thead>\n",
       "    <tr style=\"text-align: right;\">\n",
       "      <th></th>\n",
       "      <th>age</th>\n",
       "      <th>sex</th>\n",
       "      <th>cp</th>\n",
       "      <th>trtbps</th>\n",
       "      <th>chol</th>\n",
       "      <th>fbs</th>\n",
       "      <th>restecg</th>\n",
       "      <th>thalachh</th>\n",
       "      <th>exng</th>\n",
       "      <th>oldpeak</th>\n",
       "      <th>slp</th>\n",
       "      <th>caa</th>\n",
       "      <th>thall</th>\n",
       "      <th>output</th>\n",
       "    </tr>\n",
       "  </thead>\n",
       "  <tbody>\n",
       "    <tr>\n",
       "      <td>253</td>\n",
       "      <td>67</td>\n",
       "      <td>1</td>\n",
       "      <td>0</td>\n",
       "      <td>100</td>\n",
       "      <td>299</td>\n",
       "      <td>0</td>\n",
       "      <td>0</td>\n",
       "      <td>125</td>\n",
       "      <td>1</td>\n",
       "      <td>0.9</td>\n",
       "      <td>1</td>\n",
       "      <td>2</td>\n",
       "      <td>2</td>\n",
       "      <td>0</td>\n",
       "    </tr>\n",
       "    <tr>\n",
       "      <td>166</td>\n",
       "      <td>67</td>\n",
       "      <td>1</td>\n",
       "      <td>0</td>\n",
       "      <td>120</td>\n",
       "      <td>229</td>\n",
       "      <td>0</td>\n",
       "      <td>0</td>\n",
       "      <td>129</td>\n",
       "      <td>1</td>\n",
       "      <td>2.6</td>\n",
       "      <td>1</td>\n",
       "      <td>2</td>\n",
       "      <td>3</td>\n",
       "      <td>0</td>\n",
       "    </tr>\n",
       "    <tr>\n",
       "      <td>262</td>\n",
       "      <td>53</td>\n",
       "      <td>1</td>\n",
       "      <td>0</td>\n",
       "      <td>123</td>\n",
       "      <td>282</td>\n",
       "      <td>0</td>\n",
       "      <td>1</td>\n",
       "      <td>95</td>\n",
       "      <td>1</td>\n",
       "      <td>2.0</td>\n",
       "      <td>1</td>\n",
       "      <td>2</td>\n",
       "      <td>3</td>\n",
       "      <td>0</td>\n",
       "    </tr>\n",
       "    <tr>\n",
       "      <td>69</td>\n",
       "      <td>62</td>\n",
       "      <td>0</td>\n",
       "      <td>0</td>\n",
       "      <td>124</td>\n",
       "      <td>209</td>\n",
       "      <td>0</td>\n",
       "      <td>1</td>\n",
       "      <td>163</td>\n",
       "      <td>0</td>\n",
       "      <td>0.0</td>\n",
       "      <td>2</td>\n",
       "      <td>0</td>\n",
       "      <td>2</td>\n",
       "      <td>1</td>\n",
       "    </tr>\n",
       "    <tr>\n",
       "      <td>60</td>\n",
       "      <td>71</td>\n",
       "      <td>0</td>\n",
       "      <td>2</td>\n",
       "      <td>110</td>\n",
       "      <td>265</td>\n",
       "      <td>1</td>\n",
       "      <td>0</td>\n",
       "      <td>130</td>\n",
       "      <td>0</td>\n",
       "      <td>0.0</td>\n",
       "      <td>2</td>\n",
       "      <td>1</td>\n",
       "      <td>2</td>\n",
       "      <td>1</td>\n",
       "    </tr>\n",
       "  </tbody>\n",
       "</table>\n",
       "</div>"
      ],
      "text/plain": [
       "     age  sex  cp  trtbps  chol  fbs  restecg  thalachh  exng  oldpeak  slp  \\\n",
       "253   67    1   0     100   299    0        0       125     1      0.9    1   \n",
       "166   67    1   0     120   229    0        0       129     1      2.6    1   \n",
       "262   53    1   0     123   282    0        1        95     1      2.0    1   \n",
       "69    62    0   0     124   209    0        1       163     0      0.0    2   \n",
       "60    71    0   2     110   265    1        0       130     0      0.0    2   \n",
       "\n",
       "     caa  thall  output  \n",
       "253    2      2       0  \n",
       "166    2      3       0  \n",
       "262    2      3       0  \n",
       "69     0      2       1  \n",
       "60     1      2       1  "
      ]
     },
     "execution_count": 5,
     "metadata": {},
     "output_type": "execute_result"
    }
   ],
   "source": [
    "dataset.sample(5)"
   ]
  },
  {
   "cell_type": "code",
   "execution_count": 6,
   "metadata": {},
   "outputs": [
    {
     "name": "stdout",
     "output_type": "stream",
     "text": [
      "29\n"
     ]
    }
   ],
   "source": [
    "column_name = \"age\"\n",
    "column_sum = dataset[column_name].min()\n",
    "print(column_sum)"
   ]
  },
  {
   "cell_type": "code",
   "execution_count": 7,
   "metadata": {},
   "outputs": [
    {
     "data": {
      "text/html": [
       "<div>\n",
       "<style scoped>\n",
       "    .dataframe tbody tr th:only-of-type {\n",
       "        vertical-align: middle;\n",
       "    }\n",
       "\n",
       "    .dataframe tbody tr th {\n",
       "        vertical-align: top;\n",
       "    }\n",
       "\n",
       "    .dataframe thead th {\n",
       "        text-align: right;\n",
       "    }\n",
       "</style>\n",
       "<table border=\"1\" class=\"dataframe\">\n",
       "  <thead>\n",
       "    <tr style=\"text-align: right;\">\n",
       "      <th></th>\n",
       "      <th>age</th>\n",
       "      <th>sex</th>\n",
       "      <th>cp</th>\n",
       "      <th>trtbps</th>\n",
       "      <th>chol</th>\n",
       "      <th>fbs</th>\n",
       "      <th>restecg</th>\n",
       "      <th>thalachh</th>\n",
       "      <th>exng</th>\n",
       "      <th>oldpeak</th>\n",
       "      <th>slp</th>\n",
       "      <th>caa</th>\n",
       "      <th>thall</th>\n",
       "      <th>output</th>\n",
       "    </tr>\n",
       "  </thead>\n",
       "  <tbody>\n",
       "    <tr>\n",
       "      <td>count</td>\n",
       "      <td>303.000000</td>\n",
       "      <td>303.000000</td>\n",
       "      <td>303.000000</td>\n",
       "      <td>303.000000</td>\n",
       "      <td>303.000000</td>\n",
       "      <td>303.000000</td>\n",
       "      <td>303.000000</td>\n",
       "      <td>303.000000</td>\n",
       "      <td>303.000000</td>\n",
       "      <td>303.000000</td>\n",
       "      <td>303.000000</td>\n",
       "      <td>303.000000</td>\n",
       "      <td>303.000000</td>\n",
       "      <td>303.000000</td>\n",
       "    </tr>\n",
       "    <tr>\n",
       "      <td>mean</td>\n",
       "      <td>54.366337</td>\n",
       "      <td>0.683168</td>\n",
       "      <td>0.966997</td>\n",
       "      <td>131.623762</td>\n",
       "      <td>246.264026</td>\n",
       "      <td>0.148515</td>\n",
       "      <td>0.528053</td>\n",
       "      <td>149.646865</td>\n",
       "      <td>0.326733</td>\n",
       "      <td>1.039604</td>\n",
       "      <td>1.399340</td>\n",
       "      <td>0.729373</td>\n",
       "      <td>2.313531</td>\n",
       "      <td>0.544554</td>\n",
       "    </tr>\n",
       "    <tr>\n",
       "      <td>std</td>\n",
       "      <td>9.082101</td>\n",
       "      <td>0.466011</td>\n",
       "      <td>1.032052</td>\n",
       "      <td>17.538143</td>\n",
       "      <td>51.830751</td>\n",
       "      <td>0.356198</td>\n",
       "      <td>0.525860</td>\n",
       "      <td>22.905161</td>\n",
       "      <td>0.469794</td>\n",
       "      <td>1.161075</td>\n",
       "      <td>0.616226</td>\n",
       "      <td>1.022606</td>\n",
       "      <td>0.612277</td>\n",
       "      <td>0.498835</td>\n",
       "    </tr>\n",
       "    <tr>\n",
       "      <td>min</td>\n",
       "      <td>29.000000</td>\n",
       "      <td>0.000000</td>\n",
       "      <td>0.000000</td>\n",
       "      <td>94.000000</td>\n",
       "      <td>126.000000</td>\n",
       "      <td>0.000000</td>\n",
       "      <td>0.000000</td>\n",
       "      <td>71.000000</td>\n",
       "      <td>0.000000</td>\n",
       "      <td>0.000000</td>\n",
       "      <td>0.000000</td>\n",
       "      <td>0.000000</td>\n",
       "      <td>0.000000</td>\n",
       "      <td>0.000000</td>\n",
       "    </tr>\n",
       "    <tr>\n",
       "      <td>25%</td>\n",
       "      <td>47.500000</td>\n",
       "      <td>0.000000</td>\n",
       "      <td>0.000000</td>\n",
       "      <td>120.000000</td>\n",
       "      <td>211.000000</td>\n",
       "      <td>0.000000</td>\n",
       "      <td>0.000000</td>\n",
       "      <td>133.500000</td>\n",
       "      <td>0.000000</td>\n",
       "      <td>0.000000</td>\n",
       "      <td>1.000000</td>\n",
       "      <td>0.000000</td>\n",
       "      <td>2.000000</td>\n",
       "      <td>0.000000</td>\n",
       "    </tr>\n",
       "    <tr>\n",
       "      <td>50%</td>\n",
       "      <td>55.000000</td>\n",
       "      <td>1.000000</td>\n",
       "      <td>1.000000</td>\n",
       "      <td>130.000000</td>\n",
       "      <td>240.000000</td>\n",
       "      <td>0.000000</td>\n",
       "      <td>1.000000</td>\n",
       "      <td>153.000000</td>\n",
       "      <td>0.000000</td>\n",
       "      <td>0.800000</td>\n",
       "      <td>1.000000</td>\n",
       "      <td>0.000000</td>\n",
       "      <td>2.000000</td>\n",
       "      <td>1.000000</td>\n",
       "    </tr>\n",
       "    <tr>\n",
       "      <td>75%</td>\n",
       "      <td>61.000000</td>\n",
       "      <td>1.000000</td>\n",
       "      <td>2.000000</td>\n",
       "      <td>140.000000</td>\n",
       "      <td>274.500000</td>\n",
       "      <td>0.000000</td>\n",
       "      <td>1.000000</td>\n",
       "      <td>166.000000</td>\n",
       "      <td>1.000000</td>\n",
       "      <td>1.600000</td>\n",
       "      <td>2.000000</td>\n",
       "      <td>1.000000</td>\n",
       "      <td>3.000000</td>\n",
       "      <td>1.000000</td>\n",
       "    </tr>\n",
       "    <tr>\n",
       "      <td>max</td>\n",
       "      <td>77.000000</td>\n",
       "      <td>1.000000</td>\n",
       "      <td>3.000000</td>\n",
       "      <td>200.000000</td>\n",
       "      <td>564.000000</td>\n",
       "      <td>1.000000</td>\n",
       "      <td>2.000000</td>\n",
       "      <td>202.000000</td>\n",
       "      <td>1.000000</td>\n",
       "      <td>6.200000</td>\n",
       "      <td>2.000000</td>\n",
       "      <td>4.000000</td>\n",
       "      <td>3.000000</td>\n",
       "      <td>1.000000</td>\n",
       "    </tr>\n",
       "  </tbody>\n",
       "</table>\n",
       "</div>"
      ],
      "text/plain": [
       "              age         sex          cp      trtbps        chol         fbs  \\\n",
       "count  303.000000  303.000000  303.000000  303.000000  303.000000  303.000000   \n",
       "mean    54.366337    0.683168    0.966997  131.623762  246.264026    0.148515   \n",
       "std      9.082101    0.466011    1.032052   17.538143   51.830751    0.356198   \n",
       "min     29.000000    0.000000    0.000000   94.000000  126.000000    0.000000   \n",
       "25%     47.500000    0.000000    0.000000  120.000000  211.000000    0.000000   \n",
       "50%     55.000000    1.000000    1.000000  130.000000  240.000000    0.000000   \n",
       "75%     61.000000    1.000000    2.000000  140.000000  274.500000    0.000000   \n",
       "max     77.000000    1.000000    3.000000  200.000000  564.000000    1.000000   \n",
       "\n",
       "          restecg    thalachh        exng     oldpeak         slp         caa  \\\n",
       "count  303.000000  303.000000  303.000000  303.000000  303.000000  303.000000   \n",
       "mean     0.528053  149.646865    0.326733    1.039604    1.399340    0.729373   \n",
       "std      0.525860   22.905161    0.469794    1.161075    0.616226    1.022606   \n",
       "min      0.000000   71.000000    0.000000    0.000000    0.000000    0.000000   \n",
       "25%      0.000000  133.500000    0.000000    0.000000    1.000000    0.000000   \n",
       "50%      1.000000  153.000000    0.000000    0.800000    1.000000    0.000000   \n",
       "75%      1.000000  166.000000    1.000000    1.600000    2.000000    1.000000   \n",
       "max      2.000000  202.000000    1.000000    6.200000    2.000000    4.000000   \n",
       "\n",
       "            thall      output  \n",
       "count  303.000000  303.000000  \n",
       "mean     2.313531    0.544554  \n",
       "std      0.612277    0.498835  \n",
       "min      0.000000    0.000000  \n",
       "25%      2.000000    0.000000  \n",
       "50%      2.000000    1.000000  \n",
       "75%      3.000000    1.000000  \n",
       "max      3.000000    1.000000  "
      ]
     },
     "execution_count": 7,
     "metadata": {},
     "output_type": "execute_result"
    }
   ],
   "source": [
    "#If we want to know all column mean,std,max,min values etc.\n",
    "dataset.describe()"
   ]
  },
  {
   "cell_type": "code",
   "execution_count": 8,
   "metadata": {},
   "outputs": [
    {
     "name": "stdout",
     "output_type": "stream",
     "text": [
      "<class 'pandas.core.frame.DataFrame'>\n",
      "RangeIndex: 303 entries, 0 to 302\n",
      "Data columns (total 14 columns):\n",
      "age         303 non-null int64\n",
      "sex         303 non-null int64\n",
      "cp          303 non-null int64\n",
      "trtbps      303 non-null int64\n",
      "chol        303 non-null int64\n",
      "fbs         303 non-null int64\n",
      "restecg     303 non-null int64\n",
      "thalachh    303 non-null int64\n",
      "exng        303 non-null int64\n",
      "oldpeak     303 non-null float64\n",
      "slp         303 non-null int64\n",
      "caa         303 non-null int64\n",
      "thall       303 non-null int64\n",
      "output      303 non-null int64\n",
      "dtypes: float64(1), int64(13)\n",
      "memory usage: 33.3 KB\n"
     ]
    }
   ],
   "source": [
    "#Checking the categories of data and summary of data statistics\n",
    "\n",
    "dataset.info()"
   ]
  },
  {
   "cell_type": "code",
   "execution_count": 9,
   "metadata": {},
   "outputs": [
    {
     "name": "stdout",
     "output_type": "stream",
     "text": [
      "age:\t\tage\n",
      "sex:\t\t1: male, 0: female\n",
      "cp:\t\tchest pain type, 1: typical angina, 2: atypical angina, 3: non-anginal pain, 4: asymptomatic\n",
      "trtbps:\t\tresting blood pressure\n",
      "chol:\t\t serum cholestoral in mg/dl\n",
      "fbs:\t\tfasting blood sugar > 120 mg/dl\n",
      "restecg:\t\tresting electrocardiographic results (values 0,1,2)\n",
      "thalachh:\t\t maximum heart rate achieved\n",
      "exng:\t\texercise induced angina\n",
      "oldpeak:\t\toldpeak = ST depression induced by exercise relative to rest\n",
      "slp:\t\tthe slope of the peak exercise ST segment\n",
      "caa:\t\tnumber of major vessels (0-3) colored by flourosopy\n",
      "thall:\t\tthall: 1 = normal; 2 = fixed defect; 3 = reversable defect\n"
     ]
    }
   ],
   "source": [
    "info = [\"age\",\"1: male, 0: female\",\"chest pain type, 1: typical angina, 2: atypical angina, 3: non-anginal pain, 4: asymptomatic\",\n",
    "        \"resting blood pressure\",\" serum cholestoral in mg/dl\",\"fasting blood sugar > 120 mg/dl\",\n",
    "        \"resting electrocardiographic results (values 0,1,2)\",\" maximum heart rate achieved\",\"exercise induced angina\",\n",
    "        \"oldpeak = ST depression induced by exercise relative to rest\",\"the slope of the peak exercise ST segment\",\n",
    "        \"number of major vessels (0-3) colored by flourosopy\",\"thall: 1 = normal; 2 = fixed defect; 3 = reversable defect\"]\n",
    "\n",
    "\n",
    "\n",
    "for i in range(len(info)):\n",
    "    print(dataset.columns[i]+\":\\t\\t\"+info[i])"
   ]
  },
  {
   "cell_type": "code",
   "execution_count": 10,
   "metadata": {},
   "outputs": [
    {
     "data": {
      "text/plain": [
       "count    303.000000\n",
       "mean       0.544554\n",
       "std        0.498835\n",
       "min        0.000000\n",
       "25%        0.000000\n",
       "50%        1.000000\n",
       "75%        1.000000\n",
       "max        1.000000\n",
       "Name: output, dtype: float64"
      ]
     },
     "execution_count": 10,
     "metadata": {},
     "output_type": "execute_result"
    }
   ],
   "source": [
    "dataset[\"output\"].describe()"
   ]
  },
  {
   "cell_type": "code",
   "execution_count": 11,
   "metadata": {},
   "outputs": [
    {
     "data": {
      "text/plain": [
       "array([1, 0], dtype=int64)"
      ]
     },
     "execution_count": 11,
     "metadata": {},
     "output_type": "execute_result"
    }
   ],
   "source": [
    "dataset[\"output\"].unique()"
   ]
  },
  {
   "cell_type": "code",
   "execution_count": 12,
   "metadata": {
    "scrolled": false
   },
   "outputs": [
    {
     "name": "stdout",
     "output_type": "stream",
     "text": [
      "               age       sex        cp    trtbps      chol       fbs  \\\n",
      "age       1.000000 -0.098447 -0.068653  0.279351  0.213678  0.121308   \n",
      "sex      -0.098447  1.000000 -0.049353 -0.056769 -0.197912  0.045032   \n",
      "cp       -0.068653 -0.049353  1.000000  0.047608 -0.076904  0.094444   \n",
      "trtbps    0.279351 -0.056769  0.047608  1.000000  0.123174  0.177531   \n",
      "chol      0.213678 -0.197912 -0.076904  0.123174  1.000000  0.013294   \n",
      "fbs       0.121308  0.045032  0.094444  0.177531  0.013294  1.000000   \n",
      "restecg  -0.116211 -0.058196  0.044421 -0.114103 -0.151040 -0.084189   \n",
      "thalachh -0.398522 -0.044020  0.295762 -0.046698 -0.009940 -0.008567   \n",
      "exng      0.096801  0.141664 -0.394280  0.067616  0.067023  0.025665   \n",
      "oldpeak   0.210013  0.096093 -0.149230  0.193216  0.053952  0.005747   \n",
      "slp      -0.168814 -0.030711  0.119717 -0.121475 -0.004038 -0.059894   \n",
      "caa       0.276326  0.118261 -0.181053  0.101389  0.070511  0.137979   \n",
      "thall     0.068001  0.210041 -0.161736  0.062210  0.098803 -0.032019   \n",
      "output   -0.225439 -0.280937  0.433798 -0.144931 -0.085239 -0.028046   \n",
      "\n",
      "           restecg  thalachh      exng   oldpeak       slp       caa  \\\n",
      "age      -0.116211 -0.398522  0.096801  0.210013 -0.168814  0.276326   \n",
      "sex      -0.058196 -0.044020  0.141664  0.096093 -0.030711  0.118261   \n",
      "cp        0.044421  0.295762 -0.394280 -0.149230  0.119717 -0.181053   \n",
      "trtbps   -0.114103 -0.046698  0.067616  0.193216 -0.121475  0.101389   \n",
      "chol     -0.151040 -0.009940  0.067023  0.053952 -0.004038  0.070511   \n",
      "fbs      -0.084189 -0.008567  0.025665  0.005747 -0.059894  0.137979   \n",
      "restecg   1.000000  0.044123 -0.070733 -0.058770  0.093045 -0.072042   \n",
      "thalachh  0.044123  1.000000 -0.378812 -0.344187  0.386784 -0.213177   \n",
      "exng     -0.070733 -0.378812  1.000000  0.288223 -0.257748  0.115739   \n",
      "oldpeak  -0.058770 -0.344187  0.288223  1.000000 -0.577537  0.222682   \n",
      "slp       0.093045  0.386784 -0.257748 -0.577537  1.000000 -0.080155   \n",
      "caa      -0.072042 -0.213177  0.115739  0.222682 -0.080155  1.000000   \n",
      "thall    -0.011981 -0.096439  0.206754  0.210244 -0.104764  0.151832   \n",
      "output    0.137230  0.421741 -0.436757 -0.430696  0.345877 -0.391724   \n",
      "\n",
      "             thall    output  \n",
      "age       0.068001 -0.225439  \n",
      "sex       0.210041 -0.280937  \n",
      "cp       -0.161736  0.433798  \n",
      "trtbps    0.062210 -0.144931  \n",
      "chol      0.098803 -0.085239  \n",
      "fbs      -0.032019 -0.028046  \n",
      "restecg  -0.011981  0.137230  \n",
      "thalachh -0.096439  0.421741  \n",
      "exng      0.206754 -0.436757  \n",
      "oldpeak   0.210244 -0.430696  \n",
      "slp      -0.104764  0.345877  \n",
      "caa       0.151832 -0.391724  \n",
      "thall     1.000000 -0.344029  \n",
      "output   -0.344029  1.000000  \n"
     ]
    }
   ],
   "source": [
    "print(dataset.corr())"
   ]
  },
  {
   "cell_type": "code",
   "execution_count": 13,
   "metadata": {
    "scrolled": false
   },
   "outputs": [
    {
     "data": {
      "image/png": "[encoded data removed]",
      "text/plain": [
       "<Figure size 1728x1296 with 2 Axes>"
      ]
     },
     "metadata": {
      "needs_background": "light"
     },
     "output_type": "display_data"
    }
   ],
   "source": [
    "#HEAT MAP\n",
    "corr_matrix = dataset.corr()\n",
    "plt.figure(figsize=(24,18))\n",
    "sns.heatmap(corr_matrix, annot=True, cmap=\"BrBG\")\n",
    "import matplotlib.pyplot as plt\n",
    "plt.savefig('image.png')"
   ]
  },
  {
   "cell_type": "code",
   "execution_count": 14,
   "metadata": {
    "scrolled": true
   },
   "outputs": [
    {
     "name": "stdout",
     "output_type": "stream",
     "text": [
      "1    165\n",
      "0    138\n",
      "Name: output, dtype: int64\n"
     ]
    },
    {
     "data": {
      "image/png": "[encoded data removed]",
      "text/plain": [
       "<Figure size 432x288 with 1 Axes>"
      ]
     },
     "metadata": {
      "needs_background": "light"
     },
     "output_type": "display_data"
    }
   ],
   "source": [
    "#counting how many of having with heart problem and without heart problem\n",
    "# 1 means with heart problem \n",
    "# 0 means without heart problem\n",
    "y = dataset[\"output\"]\n",
    "sns.countplot(y)\n",
    "target_temp = dataset.output.value_counts()\n",
    "print(target_temp)"
   ]
  },
  {
   "cell_type": "code",
   "execution_count": 15,
   "metadata": {},
   "outputs": [
    {
     "name": "stdout",
     "output_type": "stream",
     "text": [
      "Percentage of patients without heart problems: 45.54\n",
      "Percentage of patients with heart problems: 54.46\n"
     ]
    }
   ],
   "source": [
    "print(\"Percentage of patients without heart problems: \"+str(round(target_temp[0]*100/303,2)))\n",
    "print(\"Percentage of patients with heart problems: \"+str(round(target_temp[1]*100/303,2)))\n"
   ]
  },
  {
   "cell_type": "code",
   "execution_count": 16,
   "metadata": {},
   "outputs": [
    {
     "data": {
      "text/plain": [
       "array([1, 0], dtype=int64)"
      ]
     },
     "execution_count": 16,
     "metadata": {},
     "output_type": "execute_result"
    }
   ],
   "source": [
    "dataset[\"sex\"].unique()"
   ]
  },
  {
   "cell_type": "code",
   "execution_count": 17,
   "metadata": {},
   "outputs": [
    {
     "data": {
      "text/plain": [
       "<matplotlib.axes._subplots.AxesSubplot at 0x1f9797b9548>"
      ]
     },
     "execution_count": 17,
     "metadata": {},
     "output_type": "execute_result"
    },
    {
     "data": {
      "image/png": "[encoded data removed]",
      "text/plain": [
       "<Figure size 432x288 with 1 Axes>"
      ]
     },
     "metadata": {
      "needs_background": "light"
     },
     "output_type": "display_data"
    }
   ],
   "source": [
    "sns.barplot(dataset[\"sex\"],y)"
   ]
  },
  {
   "cell_type": "code",
   "execution_count": 18,
   "metadata": {},
   "outputs": [],
   "source": [
    "#we observe that, females are more likely to have heart problems than males"
   ]
  },
  {
   "cell_type": "code",
   "execution_count": 19,
   "metadata": {},
   "outputs": [
    {
     "data": {
      "text/plain": [
       "array([3, 2, 1, 0], dtype=int64)"
      ]
     },
     "execution_count": 19,
     "metadata": {},
     "output_type": "execute_result"
    }
   ],
   "source": [
    "dataset[\"cp\"].unique()"
   ]
  },
  {
   "cell_type": "code",
   "execution_count": 20,
   "metadata": {},
   "outputs": [
    {
     "data": {
      "text/plain": [
       "<matplotlib.axes._subplots.AxesSubplot at 0x1f979819d48>"
      ]
     },
     "execution_count": 20,
     "metadata": {},
     "output_type": "execute_result"
    },
    {
     "data": {
      "image/png": "[encoded data removed]",
      "text/plain": [
       "<Figure size 432x288 with 1 Axes>"
      ]
     },
     "metadata": {
      "needs_background": "light"
     },
     "output_type": "display_data"
    }
   ],
   "source": [
    "sns.barplot(dataset[\"cp\"],y)"
   ]
  },
  {
   "cell_type": "code",
   "execution_count": 21,
   "metadata": {},
   "outputs": [],
   "source": [
    "#We observe that, chest pain of '0', i.e. the ones with typical angina are much less likely to have heart problems"
   ]
  },
  {
   "cell_type": "code",
   "execution_count": 22,
   "metadata": {},
   "outputs": [
    {
     "data": {
      "text/plain": [
       "count    303.000000\n",
       "mean       0.148515\n",
       "std        0.356198\n",
       "min        0.000000\n",
       "25%        0.000000\n",
       "50%        0.000000\n",
       "75%        0.000000\n",
       "max        1.000000\n",
       "Name: fbs, dtype: float64"
      ]
     },
     "execution_count": 22,
     "metadata": {},
     "output_type": "execute_result"
    }
   ],
   "source": [
    "dataset[\"fbs\"].describe()"
   ]
  },
  {
   "cell_type": "code",
   "execution_count": 23,
   "metadata": {},
   "outputs": [
    {
     "data": {
      "text/plain": [
       "array([1, 0], dtype=int64)"
      ]
     },
     "execution_count": 23,
     "metadata": {},
     "output_type": "execute_result"
    }
   ],
   "source": [
    "dataset[\"fbs\"].unique()"
   ]
  },
  {
   "cell_type": "code",
   "execution_count": 24,
   "metadata": {},
   "outputs": [
    {
     "data": {
      "text/plain": [
       "<matplotlib.axes._subplots.AxesSubplot at 0x1f979877948>"
      ]
     },
     "execution_count": 24,
     "metadata": {},
     "output_type": "execute_result"
    },
    {
     "data": {
      "image/png": "[encoded data removed]",
      "text/plain": [
       "<Figure size 432x288 with 1 Axes>"
      ]
     },
     "metadata": {
      "needs_background": "light"
     },
     "output_type": "display_data"
    }
   ],
   "source": [
    "sns.barplot(dataset[\"fbs\"],y)"
   ]
  },
  {
   "cell_type": "code",
   "execution_count": 25,
   "metadata": {},
   "outputs": [
    {
     "data": {
      "text/plain": [
       "array([0, 1, 2], dtype=int64)"
      ]
     },
     "execution_count": 25,
     "metadata": {},
     "output_type": "execute_result"
    }
   ],
   "source": [
    "dataset[\"restecg\"].unique()"
   ]
  },
  {
   "cell_type": "code",
   "execution_count": 26,
   "metadata": {},
   "outputs": [
    {
     "data": {
      "text/plain": [
       "<matplotlib.axes._subplots.AxesSubplot at 0x1f9798e2408>"
      ]
     },
     "execution_count": 26,
     "metadata": {},
     "output_type": "execute_result"
    },
    {
     "data": {
      "image/png": "[encoded data removed]",
      "text/plain": [
       "<Figure size 432x288 with 1 Axes>"
      ]
     },
     "metadata": {
      "needs_background": "light"
     },
     "output_type": "display_data"
    }
   ],
   "source": [
    "sns.barplot(dataset[\"restecg\"],y)"
   ]
  },
  {
   "cell_type": "code",
   "execution_count": 27,
   "metadata": {},
   "outputs": [],
   "source": [
    "#We realize that, people with restecg '1' and '0' are much more likely to have a heart disease than with restecg '2'"
   ]
  },
  {
   "cell_type": "code",
   "execution_count": 28,
   "metadata": {},
   "outputs": [
    {
     "data": {
      "text/plain": [
       "array([0, 1], dtype=int64)"
      ]
     },
     "execution_count": 28,
     "metadata": {},
     "output_type": "execute_result"
    }
   ],
   "source": [
    "dataset[\"exng\"].unique()"
   ]
  },
  {
   "cell_type": "code",
   "execution_count": 29,
   "metadata": {},
   "outputs": [
    {
     "data": {
      "text/plain": [
       "<matplotlib.axes._subplots.AxesSubplot at 0x1f97994b588>"
      ]
     },
     "execution_count": 29,
     "metadata": {},
     "output_type": "execute_result"
    },
    {
     "data": {
      "image/png": "[encoded data removed]",
      "text/plain": [
       "<Figure size 432x288 with 1 Axes>"
      ]
     },
     "metadata": {
      "needs_background": "light"
     },
     "output_type": "display_data"
    }
   ],
   "source": [
    "sns.barplot(dataset[\"exng\"],y)"
   ]
  },
  {
   "cell_type": "code",
   "execution_count": 30,
   "metadata": {},
   "outputs": [],
   "source": [
    "#People with exang=1 i.e. Exercise induced angina are much less likely to have heart problems"
   ]
  },
  {
   "cell_type": "code",
   "execution_count": 31,
   "metadata": {},
   "outputs": [
    {
     "data": {
      "text/plain": [
       "array([0, 2, 1], dtype=int64)"
      ]
     },
     "execution_count": 31,
     "metadata": {},
     "output_type": "execute_result"
    }
   ],
   "source": [
    "dataset[\"slp\"].unique()"
   ]
  },
  {
   "cell_type": "code",
   "execution_count": 32,
   "metadata": {},
   "outputs": [
    {
     "data": {
      "text/plain": [
       "<matplotlib.axes._subplots.AxesSubplot at 0x1f9799b2e48>"
      ]
     },
     "execution_count": 32,
     "metadata": {},
     "output_type": "execute_result"
    },
    {
     "data": {
      "image/png": "[encoded data removed]",
      "text/plain": [
       "<Figure size 432x288 with 1 Axes>"
      ]
     },
     "metadata": {
      "needs_background": "light"
     },
     "output_type": "display_data"
    }
   ],
   "source": [
    "sns.barplot(dataset[\"slp\"],y)"
   ]
  },
  {
   "cell_type": "code",
   "execution_count": 33,
   "metadata": {},
   "outputs": [],
   "source": [
    "#We observe that, slope '2' causes heart pain much more than Slope '0' and '1'"
   ]
  },
  {
   "cell_type": "code",
   "execution_count": 34,
   "metadata": {},
   "outputs": [
    {
     "data": {
      "text/plain": [
       "array([0, 2, 1, 3, 4], dtype=int64)"
      ]
     },
     "execution_count": 34,
     "metadata": {},
     "output_type": "execute_result"
    }
   ],
   "source": [
    "dataset[\"caa\"].unique()"
   ]
  },
  {
   "cell_type": "code",
   "execution_count": 35,
   "metadata": {},
   "outputs": [
    {
     "data": {
      "text/plain": [
       "<matplotlib.axes._subplots.AxesSubplot at 0x1f979a0cfc8>"
      ]
     },
     "execution_count": 35,
     "metadata": {},
     "output_type": "execute_result"
    },
    {
     "data": {
      "image/png": "[encoded data removed]",
      "text/plain": [
       "<Figure size 432x288 with 1 Axes>"
      ]
     },
     "metadata": {
      "needs_background": "light"
     },
     "output_type": "display_data"
    }
   ],
   "source": [
    "sns.countplot(dataset[\"caa\"])"
   ]
  },
  {
   "cell_type": "code",
   "execution_count": 36,
   "metadata": {},
   "outputs": [
    {
     "data": {
      "text/plain": [
       "<matplotlib.axes._subplots.AxesSubplot at 0x1f97a1c9a08>"
      ]
     },
     "execution_count": 36,
     "metadata": {},
     "output_type": "execute_result"
    },
    {
     "data": {
      "image/png": "[encoded data removed]",
      "text/plain": [
       "<Figure size 432x288 with 1 Axes>"
      ]
     },
     "metadata": {
      "needs_background": "light"
     },
     "output_type": "display_data"
    }
   ],
   "source": [
    "sns.barplot(dataset[\"caa\"],y)"
   ]
  },
  {
   "cell_type": "code",
   "execution_count": 37,
   "metadata": {},
   "outputs": [],
   "source": [
    "#caa=4 has astonishingly large number of heart patients"
   ]
  },
  {
   "cell_type": "code",
   "execution_count": 38,
   "metadata": {},
   "outputs": [
    {
     "data": {
      "text/plain": [
       "array([1, 2, 3, 0], dtype=int64)"
      ]
     },
     "execution_count": 38,
     "metadata": {},
     "output_type": "execute_result"
    }
   ],
   "source": [
    "dataset[\"thall\"].unique()"
   ]
  },
  {
   "cell_type": "code",
   "execution_count": 39,
   "metadata": {},
   "outputs": [
    {
     "data": {
      "text/plain": [
       "<matplotlib.axes._subplots.AxesSubplot at 0x1f9796aa788>"
      ]
     },
     "execution_count": 39,
     "metadata": {},
     "output_type": "execute_result"
    },
    {
     "data": {
      "image/png": "[encoded data removed]",
      "text/plain": [
       "<Figure size 432x288 with 1 Axes>"
      ]
     },
     "metadata": {
      "needs_background": "light"
     },
     "output_type": "display_data"
    }
   ],
   "source": [
    "sns.barplot(dataset[\"thall\"],y)"
   ]
  },
  {
   "cell_type": "code",
   "execution_count": 123,
   "metadata": {
    "scrolled": true
   },
   "outputs": [],
   "source": [
    "#TRAIN TEST SPLIT\n",
    "\n",
    "from sklearn.model_selection import train_test_split\n",
    "\n",
    "predictors = dataset.drop(\"output\",axis=1)\n",
    "#print(predictors)---> drops the output column and prints remaining columns\n",
    "target = dataset[\"output\"]\n",
    "#print(target)----> only gives the output column\n",
    "X_train,X_test,Y_train,Y_test = train_test_split(predictors,target,test_size=0.2,random_state=0)"
   ]
  },
  {
   "cell_type": "code",
   "execution_count": 124,
   "metadata": {},
   "outputs": [
    {
     "data": {
      "text/plain": [
       "(242, 13)"
      ]
     },
     "execution_count": 124,
     "metadata": {},
     "output_type": "execute_result"
    }
   ],
   "source": [
    "X_train.shape"
   ]
  },
  {
   "cell_type": "code",
   "execution_count": 125,
   "metadata": {},
   "outputs": [
    {
     "data": {
      "text/plain": [
       "(61, 13)"
      ]
     },
     "execution_count": 125,
     "metadata": {},
     "output_type": "execute_result"
    }
   ],
   "source": [
    "X_test.shape"
   ]
  },
  {
   "cell_type": "code",
   "execution_count": 126,
   "metadata": {},
   "outputs": [
    {
     "data": {
      "text/plain": [
       "(242,)"
      ]
     },
     "execution_count": 126,
     "metadata": {},
     "output_type": "execute_result"
    }
   ],
   "source": [
    "Y_train.shape"
   ]
  },
  {
   "cell_type": "code",
   "execution_count": 127,
   "metadata": {},
   "outputs": [
    {
     "data": {
      "text/plain": [
       "(61,)"
      ]
     },
     "execution_count": 127,
     "metadata": {},
     "output_type": "execute_result"
    }
   ],
   "source": [
    "Y_test.shape"
   ]
  },
  {
   "cell_type": "code",
   "execution_count": 128,
   "metadata": {},
   "outputs": [],
   "source": [
    "#MODEL FITTING"
   ]
  },
  {
   "cell_type": "code",
   "execution_count": 129,
   "metadata": {},
   "outputs": [],
   "source": [
    "from sklearn.metrics import confusion_matrix\n",
    "from sklearn.metrics import accuracy_score"
   ]
  },
  {
   "cell_type": "code",
   "execution_count": 130,
   "metadata": {},
   "outputs": [],
   "source": [
    "#LOGISTIC REGRESSION"
   ]
  },
  {
   "cell_type": "code",
   "execution_count": 131,
   "metadata": {},
   "outputs": [],
   "source": [
    "from sklearn.linear_model import LogisticRegression\n",
    "\n",
    "logreg=LogisticRegression()\n",
    "\n",
    "logreg.fit(X_train,Y_train)\n",
    "\n",
    "Y_predictor_logreg=logreg.predict(X_test)"
   ]
  },
  {
   "cell_type": "code",
   "execution_count": 132,
   "metadata": {},
   "outputs": [
    {
     "name": "stdout",
     "output_type": "stream",
     "text": [
      "     age  sex  cp  trtbps  chol  fbs  restecg  thalachh  exng  oldpeak  slp  \\\n",
      "225   70    1   0     145   174    0        1       125     1      2.6    0   \n",
      "152   64    1   3     170   227    0        0       155     0      0.6    1   \n",
      "228   59    1   3     170   288    0        0       159     0      0.2    1   \n",
      "201   60    1   0     125   258    0        0       141     1      2.8    1   \n",
      "52    62    1   2     130   231    0        1       146     0      1.8    1   \n",
      "..   ...  ...  ..     ...   ...  ...      ...       ...   ...      ...  ...   \n",
      "146   44    0   2     118   242    0        1       149     0      0.3    1   \n",
      "302   57    0   1     130   236    0        0       174     0      0.0    1   \n",
      "26    59    1   2     150   212    1        1       157     0      1.6    2   \n",
      "108   50    0   1     120   244    0        1       162     0      1.1    2   \n",
      "89    58    0   0     100   248    0        0       122     0      1.0    1   \n",
      "\n",
      "     caa  thall  \n",
      "225    0      3  \n",
      "152    0      3  \n",
      "228    0      3  \n",
      "201    1      3  \n",
      "52     3      3  \n",
      "..   ...    ...  \n",
      "146    1      2  \n",
      "302    1      2  \n",
      "26     0      2  \n",
      "108    0      2  \n",
      "89     0      2  \n",
      "\n",
      "[61 rows x 13 columns]\n",
      "[0 1 1 0 0 0 0 0 0 0 1 1 0 1 1 1 0 1 0 1 1 0 0 0 1 0 0 0 1 1 1 0 1 1 1 1 0\n",
      " 1 0 0 1 1 0 0 0 1 1 1 0 1 1 1 1 1 1 0 1 1 1 1 1]\n"
     ]
    }
   ],
   "source": [
    "print(X_test)\n",
    "print(Y_predictor_logreg)"
   ]
  },
  {
   "cell_type": "code",
   "execution_count": 133,
   "metadata": {},
   "outputs": [
    {
     "name": "stdout",
     "output_type": "stream",
     "text": [
      "[[22  5]\n",
      " [ 4 30]]\n"
     ]
    }
   ],
   "source": [
    "cm = confusion_matrix(Y_test, Y_predictor_logreg)  \n",
    "print(cm)"
   ]
  },
  {
   "cell_type": "code",
   "execution_count": 134,
   "metadata": {
    "scrolled": false
   },
   "outputs": [
    {
     "name": "stdout",
     "output_type": "stream",
     "text": [
      "FOR LOGISTIC REGRESSION\n",
      "Correct Prediction Accuracy: 85.25 %\n",
      "Incorrect Prediction Accuracy: 14.75 %\n",
      "Sensitivity: 0.88\n",
      "Specificity: 0.81\n",
      "Precision: 0.86\n"
     ]
    }
   ],
   "source": [
    "TN=cm[0][0]\n",
    "FP=cm[0][1]\n",
    "FN=cm[1][0]\n",
    "TP=cm[1][1]\n",
    "print(\"FOR LOGISTIC REGRESSION\")\n",
    "Acc=round(((TP+TN)/(TP+TN+FP+FN))*100,2)\n",
    "print(\"Correct Prediction Accuracy: \"+str(Acc)+\" %\")\n",
    "InAcc=round(((FP+FN)/(TP+TN+FP+FN))*100,2)\n",
    "print(\"Incorrect Prediction Accuracy: \"+str(InAcc)+\" %\")\n",
    "sen=TP/(TP+FN)\n",
    "print(\"Sensitivity:\",round(sen,2))\n",
    "spe=TN/(TN+FP)\n",
    "print(\"Specificity:\",round(spe,2))\n",
    "prec=TP/(TP+FP)\n",
    "print(\"Precision:\",round(prec,2))"
   ]
  },
  {
   "cell_type": "code",
   "execution_count": 135,
   "metadata": {},
   "outputs": [
    {
     "data": {
      "text/plain": [
       "<matplotlib.axes._subplots.AxesSubplot at 0x1f97c397ac8>"
      ]
     },
     "execution_count": 135,
     "metadata": {},
     "output_type": "execute_result"
    },
    {
     "data": {
      "image/png": "[encoded data removed]",
      "text/plain": [
       "<Figure size 432x288 with 1 Axes>"
      ]
     },
     "metadata": {
      "needs_background": "light"
     },
     "output_type": "display_data"
    }
   ],
   "source": [
    "sns.distplot(Y_test-Y_predictor_logreg)"
   ]
  },
  {
   "cell_type": "code",
   "execution_count": 136,
   "metadata": {},
   "outputs": [],
   "source": [
    "#NAIVE BAYES"
   ]
  },
  {
   "cell_type": "code",
   "execution_count": 137,
   "metadata": {},
   "outputs": [],
   "source": [
    "from sklearn.naive_bayes import GaussianNB\n",
    "\n",
    "NB = GaussianNB()\n",
    "\n",
    "NB.fit(X_train,Y_train)\n",
    "\n",
    "Y_predictor_nb = NB.predict(X_test)"
   ]
  },
  {
   "cell_type": "code",
   "execution_count": 138,
   "metadata": {},
   "outputs": [
    {
     "name": "stdout",
     "output_type": "stream",
     "text": [
      "     age  sex  cp  trtbps  chol  fbs  restecg  thalachh  exng  oldpeak  slp  \\\n",
      "225   70    1   0     145   174    0        1       125     1      2.6    0   \n",
      "152   64    1   3     170   227    0        0       155     0      0.6    1   \n",
      "228   59    1   3     170   288    0        0       159     0      0.2    1   \n",
      "201   60    1   0     125   258    0        0       141     1      2.8    1   \n",
      "52    62    1   2     130   231    0        1       146     0      1.8    1   \n",
      "..   ...  ...  ..     ...   ...  ...      ...       ...   ...      ...  ...   \n",
      "146   44    0   2     118   242    0        1       149     0      0.3    1   \n",
      "302   57    0   1     130   236    0        0       174     0      0.0    1   \n",
      "26    59    1   2     150   212    1        1       157     0      1.6    2   \n",
      "108   50    0   1     120   244    0        1       162     0      1.1    2   \n",
      "89    58    0   0     100   248    0        0       122     0      1.0    1   \n",
      "\n",
      "     caa  thall  \n",
      "225    0      3  \n",
      "152    0      3  \n",
      "228    0      3  \n",
      "201    1      3  \n",
      "52     3      3  \n",
      "..   ...    ...  \n",
      "146    1      2  \n",
      "302    1      2  \n",
      "26     0      2  \n",
      "108    0      2  \n",
      "89     0      2  \n",
      "\n",
      "[61 rows x 13 columns]\n",
      "[0 1 1 0 0 1 0 0 0 0 1 1 0 1 1 1 0 1 0 1 1 1 0 0 1 0 0 1 1 1 0 0 1 1 1 0 0\n",
      " 1 0 0 1 1 0 0 1 1 1 1 0 1 1 1 1 1 1 0 1 1 1 1 1]\n"
     ]
    }
   ],
   "source": [
    "print(X_test)\n",
    "print(Y_predictor_nb)"
   ]
  },
  {
   "cell_type": "code",
   "execution_count": 139,
   "metadata": {},
   "outputs": [
    {
     "name": "stdout",
     "output_type": "stream",
     "text": [
      "[[21  6]\n",
      " [ 3 31]]\n"
     ]
    }
   ],
   "source": [
    "cm1 = confusion_matrix(Y_test, Y_predictor_nb)  \n",
    "print(cm1)"
   ]
  },
  {
   "cell_type": "code",
   "execution_count": 140,
   "metadata": {},
   "outputs": [
    {
     "name": "stdout",
     "output_type": "stream",
     "text": [
      "FOR Naive Bayes\n",
      "Correct Prediction Accuracy: 85.25 %\n",
      "Incorrect Prediction Accuracy: 14.75 %\n",
      "Sensitivity: 0.91\n",
      "Specificity: 0.78\n",
      "Precision: 0.84\n"
     ]
    }
   ],
   "source": [
    "TN=cm1[0][0]\n",
    "FP=cm1[0][1]\n",
    "FN=cm1[1][0]\n",
    "TP=cm1[1][1]\n",
    "print(\"FOR Naive Bayes\")\n",
    "Acc=round(((TP+TN)/(TP+TN+FP+FN))*100,2)\n",
    "print(\"Correct Prediction Accuracy: \"+str(Acc)+\" %\")\n",
    "InAcc=round(((FP+FN)/(TP+TN+FP+FN))*100,2)\n",
    "print(\"Incorrect Prediction Accuracy: \"+str(InAcc)+\" %\")\n",
    "sen=TP/(TP+FN)\n",
    "print(\"Sensitivity:\",round(sen,2))\n",
    "spe=TN/(TN+FP)\n",
    "print(\"Specificity:\",round(spe,2))\n",
    "prec=TP/(TP+FP)\n",
    "print(\"Precision:\",round(prec,2))"
   ]
  },
  {
   "cell_type": "code",
   "execution_count": 141,
   "metadata": {},
   "outputs": [
    {
     "data": {
      "text/plain": [
       "<matplotlib.axes._subplots.AxesSubplot at 0x1f97c43ef48>"
      ]
     },
     "execution_count": 141,
     "metadata": {},
     "output_type": "execute_result"
    },
    {
     "data": {
      "image/png": "[encoded data removed]",
      "text/plain": [
       "<Figure size 432x288 with 1 Axes>"
      ]
     },
     "metadata": {
      "needs_background": "light"
     },
     "output_type": "display_data"
    }
   ],
   "source": [
    "sns.distplot(Y_test-Y_predictor_nb)"
   ]
  },
  {
   "cell_type": "code",
   "execution_count": 142,
   "metadata": {},
   "outputs": [],
   "source": [
    "#SUPPORT VECTOR MACHINE"
   ]
  },
  {
   "cell_type": "code",
   "execution_count": 143,
   "metadata": {},
   "outputs": [],
   "source": [
    "from sklearn import svm\n",
    "\n",
    "sv = svm.SVC(kernel='linear')\n",
    "\n",
    "sv.fit(X_train, Y_train)\n",
    "\n",
    "Y_pred_svm = sv.predict(X_test)"
   ]
  },
  {
   "cell_type": "code",
   "execution_count": 144,
   "metadata": {},
   "outputs": [
    {
     "name": "stdout",
     "output_type": "stream",
     "text": [
      "     age  sex  cp  trtbps  chol  fbs  restecg  thalachh  exng  oldpeak  slp  \\\n",
      "225   70    1   0     145   174    0        1       125     1      2.6    0   \n",
      "152   64    1   3     170   227    0        0       155     0      0.6    1   \n",
      "228   59    1   3     170   288    0        0       159     0      0.2    1   \n",
      "201   60    1   0     125   258    0        0       141     1      2.8    1   \n",
      "52    62    1   2     130   231    0        1       146     0      1.8    1   \n",
      "..   ...  ...  ..     ...   ...  ...      ...       ...   ...      ...  ...   \n",
      "146   44    0   2     118   242    0        1       149     0      0.3    1   \n",
      "302   57    0   1     130   236    0        0       174     0      0.0    1   \n",
      "26    59    1   2     150   212    1        1       157     0      1.6    2   \n",
      "108   50    0   1     120   244    0        1       162     0      1.1    2   \n",
      "89    58    0   0     100   248    0        0       122     0      1.0    1   \n",
      "\n",
      "     caa  thall  \n",
      "225    0      3  \n",
      "152    0      3  \n",
      "228    0      3  \n",
      "201    1      3  \n",
      "52     3      3  \n",
      "..   ...    ...  \n",
      "146    1      2  \n",
      "302    1      2  \n",
      "26     0      2  \n",
      "108    0      2  \n",
      "89     0      2  \n",
      "\n",
      "[61 rows x 13 columns]\n",
      "[0 1 1 0 0 1 0 0 0 0 1 1 0 1 1 1 0 1 0 1 1 0 0 0 1 1 0 0 1 1 1 0 1 1 1 1 0\n",
      " 1 0 0 1 1 0 0 0 1 1 1 0 1 1 1 1 1 1 0 1 1 1 1 1]\n"
     ]
    }
   ],
   "source": [
    "print(X_test)\n",
    "print(Y_pred_svm)"
   ]
  },
  {
   "cell_type": "code",
   "execution_count": 145,
   "metadata": {},
   "outputs": [
    {
     "name": "stdout",
     "output_type": "stream",
     "text": [
      "[[20  7]\n",
      " [ 4 30]]\n"
     ]
    }
   ],
   "source": [
    "cm2 = confusion_matrix(Y_test, Y_pred_svm)  \n",
    "print(cm2)"
   ]
  },
  {
   "cell_type": "code",
   "execution_count": 146,
   "metadata": {},
   "outputs": [
    {
     "name": "stdout",
     "output_type": "stream",
     "text": [
      "FOR Support Vector Machine\n",
      "Correct Prediction Accuracy: 81.97 %\n",
      "Incorrect Prediction Accuracy: 18.03 %\n",
      "Sensitivity: 0.88\n",
      "Specificity: 0.74\n",
      "Precision: 0.81\n"
     ]
    }
   ],
   "source": [
    "TN=cm2[0][0]\n",
    "FP=cm2[0][1]\n",
    "FN=cm2[1][0]\n",
    "TP=cm2[1][1]\n",
    "print(\"FOR Support Vector Machine\")\n",
    "Acc=round(((TP+TN)/(TP+TN+FP+FN))*100,2)\n",
    "print(\"Correct Prediction Accuracy: \"+str(Acc)+\" %\")\n",
    "InAcc=round(((FP+FN)/(TP+TN+FP+FN))*100,2)\n",
    "print(\"Incorrect Prediction Accuracy: \"+str(InAcc)+\" %\")\n",
    "sen=TP/(TP+FN)\n",
    "print(\"Sensitivity:\",round(sen,2))\n",
    "spe=TN/(TN+FP)\n",
    "print(\"Specificity:\",round(spe,2))\n",
    "prec=TP/(TP+FP)\n",
    "print(\"Precision:\",round(prec,2))"
   ]
  },
  {
   "cell_type": "code",
   "execution_count": 147,
   "metadata": {},
   "outputs": [
    {
     "data": {
      "text/plain": [
       "<matplotlib.axes._subplots.AxesSubplot at 0x1f97c4b9f88>"
      ]
     },
     "execution_count": 147,
     "metadata": {},
     "output_type": "execute_result"
    },
    {
     "data": {
      "image/png": "[encoded data removed]",
      "text/plain": [
       "<Figure size 432x288 with 1 Axes>"
      ]
     },
     "metadata": {
      "needs_background": "light"
     },
     "output_type": "display_data"
    }
   ],
   "source": [
    "sns.distplot(Y_test-Y_pred_svm)"
   ]
  },
  {
   "cell_type": "code",
   "execution_count": 148,
   "metadata": {},
   "outputs": [],
   "source": [
    "#RANDOM FOREST"
   ]
  },
  {
   "cell_type": "code",
   "execution_count": 153,
   "metadata": {},
   "outputs": [],
   "source": [
    "from sklearn.ensemble import RandomForestClassifier\n",
    "\n",
    "max_accuracy = 0\n",
    "\n",
    "\n",
    "for x in range(10):\n",
    "    rf = RandomForestClassifier(random_state=x)\n",
    "    rf.fit(X_train,Y_train)\n",
    "    Y_pred_rf = rf.predict(X_test)\n",
    "    current_accuracy = round(accuracy_score(Y_pred_rf,Y_test)*100,2)\n",
    "    if(current_accuracy>max_accuracy):\n",
    "        max_accuracy = current_accuracy\n",
    "        best_x = x\n",
    "        \n",
    "#print(max_accuracy)\n",
    "#print(best_x)\n",
    "\n",
    "rf = RandomForestClassifier(random_state=best_x)\n",
    "rf.fit(X_train,Y_train)\n",
    "Y_pred_rf = rf.predict(X_test)"
   ]
  },
  {
   "cell_type": "code",
   "execution_count": 155,
   "metadata": {},
   "outputs": [
    {
     "name": "stdout",
     "output_type": "stream",
     "text": [
      "     age  sex  cp  trtbps  chol  fbs  restecg  thalachh  exng  oldpeak  slp  \\\n",
      "225   70    1   0     145   174    0        1       125     1      2.6    0   \n",
      "152   64    1   3     170   227    0        0       155     0      0.6    1   \n",
      "228   59    1   3     170   288    0        0       159     0      0.2    1   \n",
      "201   60    1   0     125   258    0        0       141     1      2.8    1   \n",
      "52    62    1   2     130   231    0        1       146     0      1.8    1   \n",
      "..   ...  ...  ..     ...   ...  ...      ...       ...   ...      ...  ...   \n",
      "146   44    0   2     118   242    0        1       149     0      0.3    1   \n",
      "302   57    0   1     130   236    0        0       174     0      0.0    1   \n",
      "26    59    1   2     150   212    1        1       157     0      1.6    2   \n",
      "108   50    0   1     120   244    0        1       162     0      1.1    2   \n",
      "89    58    0   0     100   248    0        0       122     0      1.0    1   \n",
      "\n",
      "     caa  thall  \n",
      "225    0      3  \n",
      "152    0      3  \n",
      "228    0      3  \n",
      "201    1      3  \n",
      "52     3      3  \n",
      "..   ...    ...  \n",
      "146    1      2  \n",
      "302    1      2  \n",
      "26     0      2  \n",
      "108    0      2  \n",
      "89     0      2  \n",
      "\n",
      "[61 rows x 13 columns]\n",
      "[0 1 1 0 0 1 0 0 0 0 1 1 0 1 1 1 0 1 0 1 1 0 0 0 1 0 0 0 1 1 0 0 1 1 1 0 0\n",
      " 1 0 0 1 0 1 0 0 1 1 0 0 1 1 1 1 1 1 0 1 1 1 1 1]\n"
     ]
    }
   ],
   "source": [
    "print(X_test)\n",
    "print(Y_pred_rf)"
   ]
  },
  {
   "cell_type": "code",
   "execution_count": 156,
   "metadata": {},
   "outputs": [
    {
     "name": "stdout",
     "output_type": "stream",
     "text": [
      "[[24  3]\n",
      " [ 4 30]]\n"
     ]
    }
   ],
   "source": [
    "cm3= confusion_matrix(Y_test, Y_pred_rf)  \n",
    "print(cm3)"
   ]
  },
  {
   "cell_type": "code",
   "execution_count": 157,
   "metadata": {},
   "outputs": [
    {
     "name": "stdout",
     "output_type": "stream",
     "text": [
      "FOR Random Forest algorithm\n",
      "Correct Prediction Accuracy: 88.52 %\n",
      "Incorrect Prediction Accuracy: 11.48 %\n",
      "Sensitivity: 0.88\n",
      "Specificity: 0.89\n",
      "Precision: 0.91\n"
     ]
    }
   ],
   "source": [
    "TN=cm3[0][0]\n",
    "FP=cm3[0][1]\n",
    "FN=cm3[1][0]\n",
    "TP=cm3[1][1]\n",
    "print(\"FOR Random Forest algorithm\")\n",
    "Acc=round(((TP+TN)/(TP+TN+FP+FN))*100,2)\n",
    "print(\"Correct Prediction Accuracy: \"+str(Acc)+\" %\")\n",
    "InAcc=round(((FP+FN)/(TP+TN+FP+FN))*100,2)\n",
    "print(\"Incorrect Prediction Accuracy: \"+str(InAcc)+\" %\")\n",
    "sen=TP/(TP+FN)\n",
    "print(\"Sensitivity:\",round(sen,2))\n",
    "spe=TN/(TN+FP)\n",
    "print(\"Specificity:\",round(spe,2))\n",
    "prec=TP/(TP+FP)\n",
    "print(\"Precision:\",round(prec,2))"
   ]
  },
  {
   "cell_type": "code",
   "execution_count": 158,
   "metadata": {},
   "outputs": [
    {
     "data": {
      "text/plain": [
       "<matplotlib.axes._subplots.AxesSubplot at 0x1f97c542648>"
      ]
     },
     "execution_count": 158,
     "metadata": {},
     "output_type": "execute_result"
    },
    {
     "data": {
      "image/png": "[encoded data removed]",
      "text/plain": [
       "<Figure size 432x288 with 1 Axes>"
      ]
     },
     "metadata": {
      "needs_background": "light"
     },
     "output_type": "display_data"
    }
   ],
   "source": [
    "sns.distplot((Y_test-Y_pred_rf))"
   ]
  },
  {
   "cell_type": "code",
   "execution_count": 159,
   "metadata": {},
   "outputs": [],
   "source": [
    "from sklearn.neighbors import KNeighborsClassifier \n",
    "knn=KNeighborsClassifier(n_neighbors=21)\n",
    "knn.fit(X_train,Y_train) \n",
    "Y_pred_knn = knn.predict(X_test)"
   ]
  },
  {
   "cell_type": "code",
   "execution_count": 160,
   "metadata": {},
   "outputs": [
    {
     "name": "stdout",
     "output_type": "stream",
     "text": [
      "     age  sex  cp  trtbps  chol  fbs  restecg  thalachh  exng  oldpeak  slp  \\\n",
      "225   70    1   0     145   174    0        1       125     1      2.6    0   \n",
      "152   64    1   3     170   227    0        0       155     0      0.6    1   \n",
      "228   59    1   3     170   288    0        0       159     0      0.2    1   \n",
      "201   60    1   0     125   258    0        0       141     1      2.8    1   \n",
      "52    62    1   2     130   231    0        1       146     0      1.8    1   \n",
      "..   ...  ...  ..     ...   ...  ...      ...       ...   ...      ...  ...   \n",
      "146   44    0   2     118   242    0        1       149     0      0.3    1   \n",
      "302   57    0   1     130   236    0        0       174     0      0.0    1   \n",
      "26    59    1   2     150   212    1        1       157     0      1.6    2   \n",
      "108   50    0   1     120   244    0        1       162     0      1.1    2   \n",
      "89    58    0   0     100   248    0        0       122     0      1.0    1   \n",
      "\n",
      "     caa  thall  \n",
      "225    0      3  \n",
      "152    0      3  \n",
      "228    0      3  \n",
      "201    1      3  \n",
      "52     3      3  \n",
      "..   ...    ...  \n",
      "146    1      2  \n",
      "302    1      2  \n",
      "26     0      2  \n",
      "108    0      2  \n",
      "89     0      2  \n",
      "\n",
      "[61 rows x 13 columns]\n",
      "[0 1 1 0 1 1 0 0 0 0 1 1 0 1 1 1 0 1 0 1 1 0 0 0 1 0 1 0 1 1 1 0 1 0 1 0 0\n",
      " 1 0 1 0 0 1 0 0 0 1 1 1 1 1 0 1 0 1 0 0 1 1 1 0]\n"
     ]
    }
   ],
   "source": [
    "print(X_test)\n",
    "print(Y_pred_knn)"
   ]
  },
  {
   "cell_type": "code",
   "execution_count": 161,
   "metadata": {},
   "outputs": [
    {
     "name": "stdout",
     "output_type": "stream",
     "text": [
      "[[19  8]\n",
      " [10 24]]\n"
     ]
    }
   ],
   "source": [
    "cm4= confusion_matrix(Y_test, Y_pred_knn)  \n",
    "print(cm4)"
   ]
  },
  {
   "cell_type": "code",
   "execution_count": 162,
   "metadata": {},
   "outputs": [
    {
     "name": "stdout",
     "output_type": "stream",
     "text": [
      "For K-Nearest Neighbor\n",
      "Correct Prediction Accuracy: 70.49 %\n",
      "Incorrect Prediction Accuracy: 29.51 %\n",
      "Sensitivity: 0.71\n",
      "Specificity: 0.7\n",
      "Precision: 0.75\n"
     ]
    }
   ],
   "source": [
    "TN=cm4[0][0]\n",
    "FP=cm4[0][1]\n",
    "FN=cm4[1][0]\n",
    "TP=cm4[1][1]\n",
    "print(\"For K-Nearest Neighbor\")\n",
    "Acc=round(((TP+TN)/(TP+TN+FP+FN))*100,2)\n",
    "print(\"Correct Prediction Accuracy: \"+str(Acc)+\" %\")\n",
    "InAcc=round(((FP+FN)/(TP+TN+FP+FN))*100,2)\n",
    "print(\"Incorrect Prediction Accuracy: \"+str(InAcc)+\" %\")\n",
    "sen=TP/(TP+FN)\n",
    "print(\"Sensitivity:\",round(sen,2))\n",
    "spe=TN/(TN+FP)\n",
    "print(\"Specificity:\",round(spe,2))\n",
    "prec=TP/(TP+FP)\n",
    "print(\"Precision:\",round(prec,2))"
   ]
  },
  {
   "cell_type": "code",
   "execution_count": 163,
   "metadata": {},
   "outputs": [
    {
     "data": {
      "text/plain": [
       "<matplotlib.axes._subplots.AxesSubplot at 0x1f97c5add48>"
      ]
     },
     "execution_count": 163,
     "metadata": {},
     "output_type": "execute_result"
    },
    {
     "data": {
      "image/png": "[encoded data removed]",
      "text/plain": [
       "<Figure size 432x288 with 1 Axes>"
      ]
     },
     "metadata": {
      "needs_background": "light"
     },
     "output_type": "display_data"
    }
   ],
   "source": [
    "sns.distplot((Y_test-Y_pred_knn))"
   ]
  },
  {
   "cell_type": "code",
   "execution_count": 164,
   "metadata": {},
   "outputs": [],
   "source": [
    "Names=[\"Logistic Regression\",\"Naive Bayes\",\"Support Vector Machine\",\"Random Forest\",\"K-Nearest Neighbor\"]\n",
    "Accuracy=[85.2,85.2,81.97,88.52,70.49]\n",
    "Inaccuracy=[14.75,14.75,18.03,11.48,29.51]\n",
    "Sensitivity=[0.88,0.91,0.88,0.88,0.71]\n",
    "Specificity=[0.81,0.78,0.74,0.89,0.70]\n",
    "Precision=[0.86,0.84,0.81,0.91,0.75]"
   ]
  },
  {
   "cell_type": "code",
   "execution_count": 165,
   "metadata": {},
   "outputs": [
    {
     "data": {
      "text/html": [
       "<div>\n",
       "<style scoped>\n",
       "    .dataframe tbody tr th:only-of-type {\n",
       "        vertical-align: middle;\n",
       "    }\n",
       "\n",
       "    .dataframe tbody tr th {\n",
       "        vertical-align: top;\n",
       "    }\n",
       "\n",
       "    .dataframe thead th {\n",
       "        text-align: right;\n",
       "    }\n",
       "</style>\n",
       "<table border=\"1\" class=\"dataframe\">\n",
       "  <thead>\n",
       "    <tr style=\"text-align: right;\">\n",
       "      <th></th>\n",
       "      <th>Algorithm_Names</th>\n",
       "      <th>Accuracy</th>\n",
       "      <th>Inaccuracy</th>\n",
       "      <th>Sensitivity</th>\n",
       "      <th>Specificity</th>\n",
       "      <th>Precision</th>\n",
       "    </tr>\n",
       "  </thead>\n",
       "  <tbody>\n",
       "    <tr>\n",
       "      <td>0</td>\n",
       "      <td>Logistic Regression</td>\n",
       "      <td>85.20</td>\n",
       "      <td>14.75</td>\n",
       "      <td>0.88</td>\n",
       "      <td>0.81</td>\n",
       "      <td>0.86</td>\n",
       "    </tr>\n",
       "    <tr>\n",
       "      <td>1</td>\n",
       "      <td>Naive Bayes</td>\n",
       "      <td>85.20</td>\n",
       "      <td>14.75</td>\n",
       "      <td>0.91</td>\n",
       "      <td>0.78</td>\n",
       "      <td>0.84</td>\n",
       "    </tr>\n",
       "    <tr>\n",
       "      <td>2</td>\n",
       "      <td>Support Vector Machine</td>\n",
       "      <td>81.97</td>\n",
       "      <td>18.03</td>\n",
       "      <td>0.88</td>\n",
       "      <td>0.74</td>\n",
       "      <td>0.81</td>\n",
       "    </tr>\n",
       "    <tr>\n",
       "      <td>3</td>\n",
       "      <td>Random Forest</td>\n",
       "      <td>88.52</td>\n",
       "      <td>11.48</td>\n",
       "      <td>0.88</td>\n",
       "      <td>0.89</td>\n",
       "      <td>0.91</td>\n",
       "    </tr>\n",
       "    <tr>\n",
       "      <td>4</td>\n",
       "      <td>K-Nearest Neighbor</td>\n",
       "      <td>70.49</td>\n",
       "      <td>29.51</td>\n",
       "      <td>0.71</td>\n",
       "      <td>0.70</td>\n",
       "      <td>0.75</td>\n",
       "    </tr>\n",
       "  </tbody>\n",
       "</table>\n",
       "</div>"
      ],
      "text/plain": [
       "          Algorithm_Names  Accuracy  Inaccuracy  Sensitivity  Specificity  \\\n",
       "0     Logistic Regression     85.20       14.75         0.88         0.81   \n",
       "1             Naive Bayes     85.20       14.75         0.91         0.78   \n",
       "2  Support Vector Machine     81.97       18.03         0.88         0.74   \n",
       "3           Random Forest     88.52       11.48         0.88         0.89   \n",
       "4      K-Nearest Neighbor     70.49       29.51         0.71         0.70   \n",
       "\n",
       "   Precision  \n",
       "0       0.86  \n",
       "1       0.84  \n",
       "2       0.81  \n",
       "3       0.91  \n",
       "4       0.75  "
      ]
     },
     "execution_count": 165,
     "metadata": {},
     "output_type": "execute_result"
    }
   ],
   "source": [
    "df = pd.DataFrame()\n",
    "df['Algorithm_Names'] = Names\n",
    "df['Accuracy'] = Accuracy\n",
    "df['Inaccuracy']=Inaccuracy\n",
    "df['Sensitivity']=Sensitivity\n",
    "df['Specificity']=Specificity\n",
    "df['Precision']=Precision\n",
    "df"
   ]
  },
  {
   "cell_type": "code",
   "execution_count": 166,
   "metadata": {},
   "outputs": [
    {
     "data": {
      "image/png": "[encoded data removed]",
      "text/plain": [
       "<Figure size 432x288 with 1 Axes>"
      ]
     },
     "metadata": {},
     "output_type": "display_data"
    }
   ],
   "source": [
    "sns.set(style=\"whitegrid\")\n",
    "ax = sns.barplot(y=\"Algorithm_Names\", x=\"Accuracy\", data=df)"
   ]
  },
  {
   "cell_type": "code",
   "execution_count": 167,
   "metadata": {},
   "outputs": [
    {
     "data": {
      "image/png": "[encoded data removed]",
      "text/plain": [
       "<Figure size 432x288 with 1 Axes>"
      ]
     },
     "metadata": {},
     "output_type": "display_data"
    }
   ],
   "source": [
    "sns.set(style=\"whitegrid\")\n",
    "ax = sns.barplot(y=\"Algorithm_Names\", x=\"Inaccuracy\", data=df)"
   ]
  },
  {
   "cell_type": "code",
   "execution_count": 168,
   "metadata": {},
   "outputs": [
    {
     "data": {
      "image/png": "[encoded data removed]",
      "text/plain": [
       "<Figure size 432x288 with 1 Axes>"
      ]
     },
     "metadata": {},
     "output_type": "display_data"
    }
   ],
   "source": [
    "sns.set(style=\"whitegrid\")\n",
    "ax = sns.barplot(y=\"Algorithm_Names\", x=\"Sensitivity\", data=df)"
   ]
  },
  {
   "cell_type": "code",
   "execution_count": 169,
   "metadata": {},
   "outputs": [
    {
     "data": {
      "image/png": "[encoded data removed]",
      "text/plain": [
       "<Figure size 432x288 with 1 Axes>"
      ]
     },
     "metadata": {},
     "output_type": "display_data"
    }
   ],
   "source": [
    "sns.set(style=\"whitegrid\")\n",
    "ax = sns.barplot(y=\"Algorithm_Names\", x=\"Specificity\", data=df)"
   ]
  },
  {
   "cell_type": "code",
   "execution_count": 170,
   "metadata": {},
   "outputs": [
    {
     "data": {
      "image/png": "[encoded data removed]",
      "text/plain": [
       "<Figure size 432x288 with 1 Axes>"
      ]
     },
     "metadata": {},
     "output_type": "display_data"
    }
   ],
   "source": [
    "sns.set(style=\"whitegrid\")\n",
    "ax = sns.barplot(y=\"Algorithm_Names\", x=\"Precision\", data=df)"
   ]
  },
  {
   "cell_type": "code",
   "execution_count": 171,
   "metadata": {},
   "outputs": [
    {
     "name": "stdout",
     "output_type": "stream",
     "text": [
      "0\n",
      "You are safe... 😀\n"
     ]
    }
   ],
   "source": [
    "#Now the graph shows Random forest is the best accuracy algorithm, so we try for the future values\n",
    "\n",
    "y_future = rf.predict([[70,1,0,145,174,0,1,125,1,2.6,0,0,3]]) \n",
    "print(*y_future)\n",
    "if(y_future==1):\n",
    "    print(\"You are affected....\",\"\\U0001F62D\")\n",
    "else:\n",
    "    print(\"You are safe...\",\"\\U0001f600\")"
   ]
  },
  {
   "cell_type": "code",
   "execution_count": 174,
   "metadata": {},
   "outputs": [
    {
     "name": "stdout",
     "output_type": "stream",
     "text": [
      "1\n",
      "You are affected.... 😭\n"
     ]
    }
   ],
   "source": [
    "\n",
    "y_future = rf.predict([[58,0,0,100,248,0,0,122,0,1.0,1,0,2]])\n",
    "print(*y_future)\n",
    "if(y_future==1):\n",
    "    print(\"You are affected....\",\"\\U0001F62D\")\n",
    "else:\n",
    "    print(\"You are safe...\",\"\\U0001f600\")"
   ]
  },
  {
   "cell_type": "code",
   "execution_count": null,
   "metadata": {},
   "outputs": [],
   "source": []
  }
 ],
 "metadata": {
  "kernelspec": {
   "display_name": "Python 3",
   "language": "python",
   "name": "python3"
  },
  "language_info": {
   "codemirror_mode": {
    "name": "ipython",
    "version": 3
   },
   "file_extension": ".py",
   "mimetype": "text/x-python",
   "name": "python",
   "nbconvert_exporter": "python",
   "pygments_lexer": "ipython3",
   "version": "3.7.4"
  }
 },
 "nbformat": 4,
 "nbformat_minor": 2
}
